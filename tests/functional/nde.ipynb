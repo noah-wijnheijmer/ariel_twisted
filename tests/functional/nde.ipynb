{
 "cells": [
  {
   "cell_type": "markdown",
   "id": "19a57bcf",
   "metadata": {},
   "source": [
    "# NDE: Neural Developmental Encodings"
   ]
  },
  {
   "cell_type": "code",
   "execution_count": 1,
   "id": "5da3f6a0",
   "metadata": {},
   "outputs": [],
   "source": [
    "# Standard library\n",
    "from math import isclose\n",
    "from pathlib import Path\n",
    "\n",
    "# Third party libraries\n",
    "import numpy as np\n",
    "\n",
    "# Local libraries\n",
    "from ariel import console\n",
    "from ariel.ec.genotypes.nde import NeuralDevelopmentalEncoding"
   ]
  },
  {
   "cell_type": "code",
   "execution_count": 2,
   "id": "7c8a577a",
   "metadata": {},
   "outputs": [],
   "source": [
    "# --- DATA SETUP ---\n",
    "CWD = Path.cwd()\n",
    "DATA = CWD / \"__data__\"\n",
    "DATA.mkdir(exist_ok=True)\n"
   ]
  },
  {
   "cell_type": "code",
   "execution_count": 3,
   "id": "fcd6d6a0",
   "metadata": {},
   "outputs": [],
   "source": [
    "# --- RANDOM GENERATOR SETUP --- #\n",
    "SEED = 42\n",
    "RNG = np.random.default_rng(SEED)"
   ]
  },
  {
   "cell_type": "code",
   "execution_count": 4,
   "id": "1bb8c602",
   "metadata": {},
   "outputs": [],
   "source": [
    "# Global variables\n",
    "SPAWN_POS = [-0.8, 0, 0.1]\n",
    "NUM_OF_MODULES = 30\n",
    "TARGET_POSITION = [5, 0, 0.5]"
   ]
  },
  {
   "cell_type": "markdown",
   "id": "3cb090bc",
   "metadata": {},
   "source": [
    "## Diversity Assessment"
   ]
  },
  {
   "cell_type": "markdown",
   "id": "b26dd1b9",
   "metadata": {},
   "source": [
    "### Standard Normal"
   ]
  },
  {
   "cell_type": "code",
   "execution_count": 5,
   "id": "941d634c",
   "metadata": {},
   "outputs": [
    {
     "data": {
      "text/html": [
       "<pre style=\"white-space:pre;overflow-x:auto;line-height:normal;font-family:Menlo,'DejaVu Sans Mono',consolas,'Courier New',monospace\"><span style=\"color: #008000; text-decoration-color: #008000; font-weight: bold\">Mean diversity:</span> <span style=\"color: #008080; text-decoration-color: #008080; font-weight: bold\">51.80149459838867</span>\n",
       "</pre>\n"
      ],
      "text/plain": [
       "\u001b[1;32mMean diversity:\u001b[0m \u001b[1;36m51.80149459838867\u001b[0m\n"
      ]
     },
     "metadata": {},
     "output_type": "display_data"
    }
   ],
   "source": [
    "matrix_history = []\n",
    "for _i in range(500):\n",
    "    genotype_size = 64\n",
    "    type_p_genes = RNG.random(genotype_size).astype(np.float32)\n",
    "    conn_p_genes = RNG.random(genotype_size).astype(np.float32)\n",
    "    rot_p_genes = RNG.random(genotype_size).astype(np.float32)\n",
    "\n",
    "    genotype = [\n",
    "        type_p_genes,\n",
    "        conn_p_genes,\n",
    "        rot_p_genes,\n",
    "    ]\n",
    "\n",
    "    nde = NeuralDevelopmentalEncoding(number_of_modules=NUM_OF_MODULES)\n",
    "    p_matrices = nde.forward(genotype)\n",
    "    matrix_history.append(np.concatenate([p.flatten() for p in p_matrices]))\n",
    "\n",
    "sum_of_diff = 0\n",
    "for i in range(len(matrix_history)):\n",
    "    for j in range(i, len(matrix_history)):\n",
    "        if i != j:\n",
    "            sum_of_diff += np.sum(np.abs(matrix_history[i] - matrix_history[j]))\n",
    "\n",
    "mean = sum_of_diff / (len(matrix_history) * (len(matrix_history) - 1))\n",
    "console.print(f\"[bold green]Mean diversity:[/bold green] {mean}\")"
   ]
  },
  {
   "cell_type": "code",
   "execution_count": 6,
   "id": "25421638",
   "metadata": {},
   "outputs": [
    {
     "data": {
      "text/html": [
       "<pre style=\"white-space:pre;overflow-x:auto;line-height:normal;font-family:Menlo,'DejaVu Sans Mono',consolas,'Courier New',monospace\"><span style=\"color: #008000; text-decoration-color: #008000; font-weight: bold\">Mean diversity:</span> <span style=\"color: #008080; text-decoration-color: #008080; font-weight: bold\">91.73458862304688</span>\n",
       "</pre>\n"
      ],
      "text/plain": [
       "\u001b[1;32mMean diversity:\u001b[0m \u001b[1;36m91.73458862304688\u001b[0m\n"
      ]
     },
     "metadata": {},
     "output_type": "display_data"
    }
   ],
   "source": [
    "matrix_history = []\n",
    "scale = 8192\n",
    "samples = 500\n",
    "for _ in range(samples):\n",
    "    genotype_size = 64\n",
    "    type_p_genes = RNG.uniform(-scale, scale, genotype_size).astype(\n",
    "        np.float32,\n",
    "    )\n",
    "    conn_p_genes = RNG.uniform(-scale, scale, genotype_size).astype(\n",
    "        np.float32,\n",
    "    )\n",
    "    rot_p_genes = RNG.uniform(-scale, scale, genotype_size).astype(\n",
    "        np.float32,\n",
    "    )\n",
    "\n",
    "    genotype = [\n",
    "        type_p_genes,\n",
    "        conn_p_genes,\n",
    "        rot_p_genes,\n",
    "    ]\n",
    "\n",
    "    nde = NeuralDevelopmentalEncoding(number_of_modules=NUM_OF_MODULES)\n",
    "    p_matrices = nde.forward(genotype)\n",
    "    matrix_history.append(np.concatenate([p.flatten() for p in p_matrices]))\n",
    "\n",
    "sum_of_diff = 0\n",
    "for i in range(len(matrix_history)):\n",
    "    for j in range(i, len(matrix_history)):\n",
    "        if i != j:\n",
    "            sum_of_diff += np.sum(np.abs(matrix_history[i] - matrix_history[j]))\n",
    "\n",
    "mean = sum_of_diff / (len(matrix_history) * (len(matrix_history) - 1))\n",
    "console.print(f\"[bold green]Mean diversity:[/bold green] {mean}\")"
   ]
  },
  {
   "cell_type": "markdown",
   "id": "3fa2ea4b",
   "metadata": {},
   "source": [
    "### Find Maximal Diversity"
   ]
  },
  {
   "cell_type": "code",
   "execution_count": 7,
   "id": "cc8ee663",
   "metadata": {},
   "outputs": [
    {
     "data": {
      "text/html": [
       "<pre style=\"white-space:pre;overflow-x:auto;line-height:normal;font-family:Menlo,'DejaVu Sans Mono',consolas,'Courier New',monospace\"><span style=\"color: #7fbfbf; text-decoration-color: #7fbfbf\">[00:42:43] </span>Sampling with scale: <span style=\"color: #008080; text-decoration-color: #008080; font-weight: bold\">2</span>                                                                   <a href=\"file:///var/folders/x7/1fxq57_x2d1c5hmfwj4l43cw0000gp/T/ipykernel_3747/416473013.py\" target=\"_blank\"><span style=\"color: #7f7f7f; text-decoration-color: #7f7f7f\">416473013.py</span></a><span style=\"color: #7f7f7f; text-decoration-color: #7f7f7f\">:</span><a href=\"file:///var/folders/x7/1fxq57_x2d1c5hmfwj4l43cw0000gp/T/ipykernel_3747/416473013.py#11\" target=\"_blank\"><span style=\"color: #7f7f7f; text-decoration-color: #7f7f7f\">11</span></a>\n",
       "</pre>\n"
      ],
      "text/plain": [
       "\u001b[2;36m[00:42:43]\u001b[0m\u001b[2;36m \u001b[0mSampling with scale: \u001b[1;36m2\u001b[0m                                                                   \u001b]8;id=912777;file:///var/folders/x7/1fxq57_x2d1c5hmfwj4l43cw0000gp/T/ipykernel_3747/416473013.py\u001b\\\u001b[2m416473013.py\u001b[0m\u001b]8;;\u001b\\\u001b[2m:\u001b[0m\u001b]8;id=456085;file:///var/folders/x7/1fxq57_x2d1c5hmfwj4l43cw0000gp/T/ipykernel_3747/416473013.py#11\u001b\\\u001b[2m11\u001b[0m\u001b]8;;\u001b\\\n"
      ]
     },
     "metadata": {},
     "output_type": "display_data"
    },
    {
     "data": {
      "text/html": [
       "<pre style=\"white-space:pre;overflow-x:auto;line-height:normal;font-family:Menlo,'DejaVu Sans Mono',consolas,'Courier New',monospace\"><span style=\"color: #008000; text-decoration-color: #008000; font-weight: bold\">Mean diversity:</span> <span style=\"color: #008080; text-decoration-color: #008080; font-weight: bold\">54.36874771118164</span>\n",
       "</pre>\n"
      ],
      "text/plain": [
       "\u001b[1;32mMean diversity:\u001b[0m \u001b[1;36m54.36874771118164\u001b[0m\n"
      ]
     },
     "metadata": {},
     "output_type": "display_data"
    },
    {
     "data": {
      "text/html": [
       "<pre style=\"white-space:pre;overflow-x:auto;line-height:normal;font-family:Menlo,'DejaVu Sans Mono',consolas,'Courier New',monospace\"><span style=\"color: #7fbfbf; text-decoration-color: #7fbfbf\">[00:42:44] </span>Sampling with scale: <span style=\"color: #008080; text-decoration-color: #008080; font-weight: bold\">4</span>                                                                   <a href=\"file:///var/folders/x7/1fxq57_x2d1c5hmfwj4l43cw0000gp/T/ipykernel_3747/416473013.py\" target=\"_blank\"><span style=\"color: #7f7f7f; text-decoration-color: #7f7f7f\">416473013.py</span></a><span style=\"color: #7f7f7f; text-decoration-color: #7f7f7f\">:</span><a href=\"file:///var/folders/x7/1fxq57_x2d1c5hmfwj4l43cw0000gp/T/ipykernel_3747/416473013.py#11\" target=\"_blank\"><span style=\"color: #7f7f7f; text-decoration-color: #7f7f7f\">11</span></a>\n",
       "</pre>\n"
      ],
      "text/plain": [
       "\u001b[2;36m[00:42:44]\u001b[0m\u001b[2;36m \u001b[0mSampling with scale: \u001b[1;36m4\u001b[0m                                                                   \u001b]8;id=392524;file:///var/folders/x7/1fxq57_x2d1c5hmfwj4l43cw0000gp/T/ipykernel_3747/416473013.py\u001b\\\u001b[2m416473013.py\u001b[0m\u001b]8;;\u001b\\\u001b[2m:\u001b[0m\u001b]8;id=473255;file:///var/folders/x7/1fxq57_x2d1c5hmfwj4l43cw0000gp/T/ipykernel_3747/416473013.py#11\u001b\\\u001b[2m11\u001b[0m\u001b]8;;\u001b\\\n"
      ]
     },
     "metadata": {},
     "output_type": "display_data"
    },
    {
     "data": {
      "text/html": [
       "<pre style=\"white-space:pre;overflow-x:auto;line-height:normal;font-family:Menlo,'DejaVu Sans Mono',consolas,'Courier New',monospace\"><span style=\"color: #008000; text-decoration-color: #008000; font-weight: bold\">Mean diversity:</span> <span style=\"color: #008080; text-decoration-color: #008080; font-weight: bold\">60.754154205322266</span>\n",
       "</pre>\n"
      ],
      "text/plain": [
       "\u001b[1;32mMean diversity:\u001b[0m \u001b[1;36m60.754154205322266\u001b[0m\n"
      ]
     },
     "metadata": {},
     "output_type": "display_data"
    },
    {
     "data": {
      "text/html": [
       "<pre style=\"white-space:pre;overflow-x:auto;line-height:normal;font-family:Menlo,'DejaVu Sans Mono',consolas,'Courier New',monospace\"><span style=\"color: #7fbfbf; text-decoration-color: #7fbfbf\">[00:42:45] </span>Sampling with scale: <span style=\"color: #008080; text-decoration-color: #008080; font-weight: bold\">8</span>                                                                   <a href=\"file:///var/folders/x7/1fxq57_x2d1c5hmfwj4l43cw0000gp/T/ipykernel_3747/416473013.py\" target=\"_blank\"><span style=\"color: #7f7f7f; text-decoration-color: #7f7f7f\">416473013.py</span></a><span style=\"color: #7f7f7f; text-decoration-color: #7f7f7f\">:</span><a href=\"file:///var/folders/x7/1fxq57_x2d1c5hmfwj4l43cw0000gp/T/ipykernel_3747/416473013.py#11\" target=\"_blank\"><span style=\"color: #7f7f7f; text-decoration-color: #7f7f7f\">11</span></a>\n",
       "</pre>\n"
      ],
      "text/plain": [
       "\u001b[2;36m[00:42:45]\u001b[0m\u001b[2;36m \u001b[0mSampling with scale: \u001b[1;36m8\u001b[0m                                                                   \u001b]8;id=270278;file:///var/folders/x7/1fxq57_x2d1c5hmfwj4l43cw0000gp/T/ipykernel_3747/416473013.py\u001b\\\u001b[2m416473013.py\u001b[0m\u001b]8;;\u001b\\\u001b[2m:\u001b[0m\u001b]8;id=117241;file:///var/folders/x7/1fxq57_x2d1c5hmfwj4l43cw0000gp/T/ipykernel_3747/416473013.py#11\u001b\\\u001b[2m11\u001b[0m\u001b]8;;\u001b\\\n"
      ]
     },
     "metadata": {},
     "output_type": "display_data"
    },
    {
     "data": {
      "text/html": [
       "<pre style=\"white-space:pre;overflow-x:auto;line-height:normal;font-family:Menlo,'DejaVu Sans Mono',consolas,'Courier New',monospace\"><span style=\"color: #008000; text-decoration-color: #008000; font-weight: bold\">Mean diversity:</span> <span style=\"color: #008080; text-decoration-color: #008080; font-weight: bold\">70.7751235961914</span>\n",
       "</pre>\n"
      ],
      "text/plain": [
       "\u001b[1;32mMean diversity:\u001b[0m \u001b[1;36m70.7751235961914\u001b[0m\n"
      ]
     },
     "metadata": {},
     "output_type": "display_data"
    },
    {
     "data": {
      "text/html": [
       "<pre style=\"white-space:pre;overflow-x:auto;line-height:normal;font-family:Menlo,'DejaVu Sans Mono',consolas,'Courier New',monospace\"><span style=\"color: #7fbfbf; text-decoration-color: #7fbfbf\">[00:42:46] </span>Sampling with scale: <span style=\"color: #008080; text-decoration-color: #008080; font-weight: bold\">16</span>                                                                  <a href=\"file:///var/folders/x7/1fxq57_x2d1c5hmfwj4l43cw0000gp/T/ipykernel_3747/416473013.py\" target=\"_blank\"><span style=\"color: #7f7f7f; text-decoration-color: #7f7f7f\">416473013.py</span></a><span style=\"color: #7f7f7f; text-decoration-color: #7f7f7f\">:</span><a href=\"file:///var/folders/x7/1fxq57_x2d1c5hmfwj4l43cw0000gp/T/ipykernel_3747/416473013.py#11\" target=\"_blank\"><span style=\"color: #7f7f7f; text-decoration-color: #7f7f7f\">11</span></a>\n",
       "</pre>\n"
      ],
      "text/plain": [
       "\u001b[2;36m[00:42:46]\u001b[0m\u001b[2;36m \u001b[0mSampling with scale: \u001b[1;36m16\u001b[0m                                                                  \u001b]8;id=177471;file:///var/folders/x7/1fxq57_x2d1c5hmfwj4l43cw0000gp/T/ipykernel_3747/416473013.py\u001b\\\u001b[2m416473013.py\u001b[0m\u001b]8;;\u001b\\\u001b[2m:\u001b[0m\u001b]8;id=506073;file:///var/folders/x7/1fxq57_x2d1c5hmfwj4l43cw0000gp/T/ipykernel_3747/416473013.py#11\u001b\\\u001b[2m11\u001b[0m\u001b]8;;\u001b\\\n"
      ]
     },
     "metadata": {},
     "output_type": "display_data"
    },
    {
     "data": {
      "text/html": [
       "<pre style=\"white-space:pre;overflow-x:auto;line-height:normal;font-family:Menlo,'DejaVu Sans Mono',consolas,'Courier New',monospace\"><span style=\"color: #008000; text-decoration-color: #008000; font-weight: bold\">Mean diversity:</span> <span style=\"color: #008080; text-decoration-color: #008080; font-weight: bold\">80.13465881347656</span>\n",
       "</pre>\n"
      ],
      "text/plain": [
       "\u001b[1;32mMean diversity:\u001b[0m \u001b[1;36m80.13465881347656\u001b[0m\n"
      ]
     },
     "metadata": {},
     "output_type": "display_data"
    },
    {
     "data": {
      "text/html": [
       "<pre style=\"white-space:pre;overflow-x:auto;line-height:normal;font-family:Menlo,'DejaVu Sans Mono',consolas,'Courier New',monospace\"><span style=\"color: #7fbfbf; text-decoration-color: #7fbfbf\">[00:42:47] </span>Sampling with scale: <span style=\"color: #008080; text-decoration-color: #008080; font-weight: bold\">32</span>                                                                  <a href=\"file:///var/folders/x7/1fxq57_x2d1c5hmfwj4l43cw0000gp/T/ipykernel_3747/416473013.py\" target=\"_blank\"><span style=\"color: #7f7f7f; text-decoration-color: #7f7f7f\">416473013.py</span></a><span style=\"color: #7f7f7f; text-decoration-color: #7f7f7f\">:</span><a href=\"file:///var/folders/x7/1fxq57_x2d1c5hmfwj4l43cw0000gp/T/ipykernel_3747/416473013.py#11\" target=\"_blank\"><span style=\"color: #7f7f7f; text-decoration-color: #7f7f7f\">11</span></a>\n",
       "</pre>\n"
      ],
      "text/plain": [
       "\u001b[2;36m[00:42:47]\u001b[0m\u001b[2;36m \u001b[0mSampling with scale: \u001b[1;36m32\u001b[0m                                                                  \u001b]8;id=649670;file:///var/folders/x7/1fxq57_x2d1c5hmfwj4l43cw0000gp/T/ipykernel_3747/416473013.py\u001b\\\u001b[2m416473013.py\u001b[0m\u001b]8;;\u001b\\\u001b[2m:\u001b[0m\u001b]8;id=923178;file:///var/folders/x7/1fxq57_x2d1c5hmfwj4l43cw0000gp/T/ipykernel_3747/416473013.py#11\u001b\\\u001b[2m11\u001b[0m\u001b]8;;\u001b\\\n"
      ]
     },
     "metadata": {},
     "output_type": "display_data"
    },
    {
     "data": {
      "text/html": [
       "<pre style=\"white-space:pre;overflow-x:auto;line-height:normal;font-family:Menlo,'DejaVu Sans Mono',consolas,'Courier New',monospace\"><span style=\"color: #008000; text-decoration-color: #008000; font-weight: bold\">Mean diversity:</span> <span style=\"color: #008080; text-decoration-color: #008080; font-weight: bold\">85.66204071044922</span>\n",
       "</pre>\n"
      ],
      "text/plain": [
       "\u001b[1;32mMean diversity:\u001b[0m \u001b[1;36m85.66204071044922\u001b[0m\n"
      ]
     },
     "metadata": {},
     "output_type": "display_data"
    },
    {
     "data": {
      "text/html": [
       "<pre style=\"white-space:pre;overflow-x:auto;line-height:normal;font-family:Menlo,'DejaVu Sans Mono',consolas,'Courier New',monospace\"><span style=\"color: #7fbfbf; text-decoration-color: #7fbfbf\">[00:42:48] </span>Sampling with scale: <span style=\"color: #008080; text-decoration-color: #008080; font-weight: bold\">64</span>                                                                  <a href=\"file:///var/folders/x7/1fxq57_x2d1c5hmfwj4l43cw0000gp/T/ipykernel_3747/416473013.py\" target=\"_blank\"><span style=\"color: #7f7f7f; text-decoration-color: #7f7f7f\">416473013.py</span></a><span style=\"color: #7f7f7f; text-decoration-color: #7f7f7f\">:</span><a href=\"file:///var/folders/x7/1fxq57_x2d1c5hmfwj4l43cw0000gp/T/ipykernel_3747/416473013.py#11\" target=\"_blank\"><span style=\"color: #7f7f7f; text-decoration-color: #7f7f7f\">11</span></a>\n",
       "</pre>\n"
      ],
      "text/plain": [
       "\u001b[2;36m[00:42:48]\u001b[0m\u001b[2;36m \u001b[0mSampling with scale: \u001b[1;36m64\u001b[0m                                                                  \u001b]8;id=42938;file:///var/folders/x7/1fxq57_x2d1c5hmfwj4l43cw0000gp/T/ipykernel_3747/416473013.py\u001b\\\u001b[2m416473013.py\u001b[0m\u001b]8;;\u001b\\\u001b[2m:\u001b[0m\u001b]8;id=349667;file:///var/folders/x7/1fxq57_x2d1c5hmfwj4l43cw0000gp/T/ipykernel_3747/416473013.py#11\u001b\\\u001b[2m11\u001b[0m\u001b]8;;\u001b\\\n"
      ]
     },
     "metadata": {},
     "output_type": "display_data"
    },
    {
     "data": {
      "text/html": [
       "<pre style=\"white-space:pre;overflow-x:auto;line-height:normal;font-family:Menlo,'DejaVu Sans Mono',consolas,'Courier New',monospace\"><span style=\"color: #008000; text-decoration-color: #008000; font-weight: bold\">Mean diversity:</span> <span style=\"color: #008080; text-decoration-color: #008080; font-weight: bold\">89.52440643310547</span>\n",
       "</pre>\n"
      ],
      "text/plain": [
       "\u001b[1;32mMean diversity:\u001b[0m \u001b[1;36m89.52440643310547\u001b[0m\n"
      ]
     },
     "metadata": {},
     "output_type": "display_data"
    },
    {
     "data": {
      "text/html": [
       "<pre style=\"white-space:pre;overflow-x:auto;line-height:normal;font-family:Menlo,'DejaVu Sans Mono',consolas,'Courier New',monospace\"><span style=\"color: #7fbfbf; text-decoration-color: #7fbfbf\">[00:42:49] </span>Sampling with scale: <span style=\"color: #008080; text-decoration-color: #008080; font-weight: bold\">128</span>                                                                 <a href=\"file:///var/folders/x7/1fxq57_x2d1c5hmfwj4l43cw0000gp/T/ipykernel_3747/416473013.py\" target=\"_blank\"><span style=\"color: #7f7f7f; text-decoration-color: #7f7f7f\">416473013.py</span></a><span style=\"color: #7f7f7f; text-decoration-color: #7f7f7f\">:</span><a href=\"file:///var/folders/x7/1fxq57_x2d1c5hmfwj4l43cw0000gp/T/ipykernel_3747/416473013.py#11\" target=\"_blank\"><span style=\"color: #7f7f7f; text-decoration-color: #7f7f7f\">11</span></a>\n",
       "</pre>\n"
      ],
      "text/plain": [
       "\u001b[2;36m[00:42:49]\u001b[0m\u001b[2;36m \u001b[0mSampling with scale: \u001b[1;36m128\u001b[0m                                                                 \u001b]8;id=907205;file:///var/folders/x7/1fxq57_x2d1c5hmfwj4l43cw0000gp/T/ipykernel_3747/416473013.py\u001b\\\u001b[2m416473013.py\u001b[0m\u001b]8;;\u001b\\\u001b[2m:\u001b[0m\u001b]8;id=328637;file:///var/folders/x7/1fxq57_x2d1c5hmfwj4l43cw0000gp/T/ipykernel_3747/416473013.py#11\u001b\\\u001b[2m11\u001b[0m\u001b]8;;\u001b\\\n"
      ]
     },
     "metadata": {},
     "output_type": "display_data"
    },
    {
     "data": {
      "text/html": [
       "<pre style=\"white-space:pre;overflow-x:auto;line-height:normal;font-family:Menlo,'DejaVu Sans Mono',consolas,'Courier New',monospace\"><span style=\"color: #008000; text-decoration-color: #008000; font-weight: bold\">Mean diversity:</span> <span style=\"color: #008080; text-decoration-color: #008080; font-weight: bold\">90.4957504272461</span>\n",
       "</pre>\n"
      ],
      "text/plain": [
       "\u001b[1;32mMean diversity:\u001b[0m \u001b[1;36m90.4957504272461\u001b[0m\n"
      ]
     },
     "metadata": {},
     "output_type": "display_data"
    },
    {
     "data": {
      "text/html": [
       "<pre style=\"white-space:pre;overflow-x:auto;line-height:normal;font-family:Menlo,'DejaVu Sans Mono',consolas,'Courier New',monospace\"><span style=\"color: #7fbfbf; text-decoration-color: #7fbfbf\">[00:42:50] </span>Sampling with scale: <span style=\"color: #008080; text-decoration-color: #008080; font-weight: bold\">256</span>                                                                 <a href=\"file:///var/folders/x7/1fxq57_x2d1c5hmfwj4l43cw0000gp/T/ipykernel_3747/416473013.py\" target=\"_blank\"><span style=\"color: #7f7f7f; text-decoration-color: #7f7f7f\">416473013.py</span></a><span style=\"color: #7f7f7f; text-decoration-color: #7f7f7f\">:</span><a href=\"file:///var/folders/x7/1fxq57_x2d1c5hmfwj4l43cw0000gp/T/ipykernel_3747/416473013.py#11\" target=\"_blank\"><span style=\"color: #7f7f7f; text-decoration-color: #7f7f7f\">11</span></a>\n",
       "</pre>\n"
      ],
      "text/plain": [
       "\u001b[2;36m[00:42:50]\u001b[0m\u001b[2;36m \u001b[0mSampling with scale: \u001b[1;36m256\u001b[0m                                                                 \u001b]8;id=500977;file:///var/folders/x7/1fxq57_x2d1c5hmfwj4l43cw0000gp/T/ipykernel_3747/416473013.py\u001b\\\u001b[2m416473013.py\u001b[0m\u001b]8;;\u001b\\\u001b[2m:\u001b[0m\u001b]8;id=453498;file:///var/folders/x7/1fxq57_x2d1c5hmfwj4l43cw0000gp/T/ipykernel_3747/416473013.py#11\u001b\\\u001b[2m11\u001b[0m\u001b]8;;\u001b\\\n"
      ]
     },
     "metadata": {},
     "output_type": "display_data"
    },
    {
     "data": {
      "text/html": [
       "<pre style=\"white-space:pre;overflow-x:auto;line-height:normal;font-family:Menlo,'DejaVu Sans Mono',consolas,'Courier New',monospace\"><span style=\"color: #008000; text-decoration-color: #008000; font-weight: bold\">Mean diversity:</span> <span style=\"color: #008080; text-decoration-color: #008080; font-weight: bold\">91.98004913330078</span>\n",
       "</pre>\n"
      ],
      "text/plain": [
       "\u001b[1;32mMean diversity:\u001b[0m \u001b[1;36m91.98004913330078\u001b[0m\n"
      ]
     },
     "metadata": {},
     "output_type": "display_data"
    },
    {
     "data": {
      "text/html": [
       "<pre style=\"white-space:pre;overflow-x:auto;line-height:normal;font-family:Menlo,'DejaVu Sans Mono',consolas,'Courier New',monospace\"><span style=\"color: #7fbfbf; text-decoration-color: #7fbfbf\">[00:42:52] </span>Sampling with scale: <span style=\"color: #008080; text-decoration-color: #008080; font-weight: bold\">512</span>                                                                 <a href=\"file:///var/folders/x7/1fxq57_x2d1c5hmfwj4l43cw0000gp/T/ipykernel_3747/416473013.py\" target=\"_blank\"><span style=\"color: #7f7f7f; text-decoration-color: #7f7f7f\">416473013.py</span></a><span style=\"color: #7f7f7f; text-decoration-color: #7f7f7f\">:</span><a href=\"file:///var/folders/x7/1fxq57_x2d1c5hmfwj4l43cw0000gp/T/ipykernel_3747/416473013.py#11\" target=\"_blank\"><span style=\"color: #7f7f7f; text-decoration-color: #7f7f7f\">11</span></a>\n",
       "</pre>\n"
      ],
      "text/plain": [
       "\u001b[2;36m[00:42:52]\u001b[0m\u001b[2;36m \u001b[0mSampling with scale: \u001b[1;36m512\u001b[0m                                                                 \u001b]8;id=904803;file:///var/folders/x7/1fxq57_x2d1c5hmfwj4l43cw0000gp/T/ipykernel_3747/416473013.py\u001b\\\u001b[2m416473013.py\u001b[0m\u001b]8;;\u001b\\\u001b[2m:\u001b[0m\u001b]8;id=240924;file:///var/folders/x7/1fxq57_x2d1c5hmfwj4l43cw0000gp/T/ipykernel_3747/416473013.py#11\u001b\\\u001b[2m11\u001b[0m\u001b]8;;\u001b\\\n"
      ]
     },
     "metadata": {},
     "output_type": "display_data"
    },
    {
     "data": {
      "text/html": [
       "<pre style=\"white-space:pre;overflow-x:auto;line-height:normal;font-family:Menlo,'DejaVu Sans Mono',consolas,'Courier New',monospace\"><span style=\"color: #008000; text-decoration-color: #008000; font-weight: bold\">Mean diversity:</span> <span style=\"color: #008080; text-decoration-color: #008080; font-weight: bold\">91.87184143066406</span>\n",
       "</pre>\n"
      ],
      "text/plain": [
       "\u001b[1;32mMean diversity:\u001b[0m \u001b[1;36m91.87184143066406\u001b[0m\n"
      ]
     },
     "metadata": {},
     "output_type": "display_data"
    }
   ],
   "source": [
    "old_diversity = 0\n",
    "new_diversity = -1\n",
    "scale = 1\n",
    "samples = 500\n",
    "while not isclose(old_diversity, new_diversity):\n",
    "    scale *= 2\n",
    "    matrix_history = []\n",
    "    old_diversity = new_diversity\n",
    "\n",
    "    # Generate samples\n",
    "    console.log(f\"Sampling with scale: {scale}\")\n",
    "    for _ in range(samples):\n",
    "        genotype_size = 64 * 4\n",
    "        type_p_genes = RNG.uniform(-scale, scale, genotype_size).astype(\n",
    "            np.float32,\n",
    "        )\n",
    "        conn_p_genes = RNG.uniform(-scale, scale, genotype_size).astype(\n",
    "            np.float32,\n",
    "        )\n",
    "        rot_p_genes = RNG.uniform(-scale, scale, genotype_size).astype(\n",
    "            np.float32,\n",
    "        )\n",
    "\n",
    "        genotype = [\n",
    "            type_p_genes,\n",
    "            conn_p_genes,\n",
    "            rot_p_genes,\n",
    "        ]\n",
    "\n",
    "        nde = NeuralDevelopmentalEncoding(\n",
    "            number_of_modules=NUM_OF_MODULES,\n",
    "            genotype_size=genotype_size,\n",
    "        )\n",
    "        p_matrices = nde.forward(genotype)\n",
    "        matrix_history.append(np.concatenate([p.flatten() for p in p_matrices]))\n",
    "\n",
    "    # Calculate diversity\n",
    "    sum_of_diff = 0\n",
    "    for i in range(len(matrix_history)):\n",
    "        for j in range(i, len(matrix_history)):\n",
    "            if i != j:\n",
    "                sum_of_diff += np.sum(\n",
    "                    np.abs(matrix_history[i] - matrix_history[j]),\n",
    "                )\n",
    "\n",
    "    # New diversity\n",
    "    mean = sum_of_diff / (len(matrix_history) * (len(matrix_history) - 1))\n",
    "    console.print(f\"[bold green]Mean diversity:[/bold green] {mean}\")\n",
    "    new_diversity = int(mean)"
   ]
  }
 ],
 "metadata": {
  "kernelspec": {
   "display_name": "ariel4 (3.12.9)",
   "language": "python",
   "name": "python3"
  },
  "language_info": {
   "codemirror_mode": {
    "name": "ipython",
    "version": 3
   },
   "file_extension": ".py",
   "mimetype": "text/x-python",
   "name": "python",
   "nbconvert_exporter": "python",
   "pygments_lexer": "ipython3",
   "version": "3.12.9"
  }
 },
 "nbformat": 4,
 "nbformat_minor": 5
}
